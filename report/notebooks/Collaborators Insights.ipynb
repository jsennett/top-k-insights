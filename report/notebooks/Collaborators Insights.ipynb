{
 "cells": [
  {
   "cell_type": "code",
   "execution_count": 5,
   "metadata": {},
   "outputs": [],
   "source": [
    "import pandas as pd\n",
    "import numpy as np\n",
    "import scipy\n",
    "import heapq\n",
    "import scipy.stats\n",
    "import matplotlib.pyplot as plt"
   ]
  },
  {
   "cell_type": "code",
   "execution_count": 6,
   "metadata": {},
   "outputs": [],
   "source": [
    "papers_filename = \"/Users/jsennett/Code/top-k-insights/data/all-paperauths.csv\"\n",
    "df = pd.read_csv(papers_filename, encoding='mac_roman')\n",
    "df['M'] = 1"
   ]
  },
  {
   "cell_type": "markdown",
   "metadata": {},
   "source": [
    "```\n",
    " [0.09] Aggregating rank of count over authid, maximum point 26.00 stood out using normal test, considering only the subspace {'year': 2014}.\n",
    " [0.09] Aggregating delta_avg of count over paperid, maximum point 97.70 stood out using normal test, considering only the subspace {'year': 2014}.\n",
    " [0.09] Aggregating delta_avg of count over authid, maximum point 197.86 stood out using normal test, considering only the subspace {'year': 2014}.\n",
    " [0.09] Aggregating delta_avg of count over authid, maximum point 152.12 stood out using normal test, considering only the subspace {'year': 2014}.\n",
    " [0.09] Aggregating delta_prev of count over authid, maximum point 135.00 stood out using normal test, considering only the subspace {'year': 2014}.\n",
    " [0.94] Aggregating delta_avg of count over year, positive slope 33116.28 stood out using linear_shape test, considering only the subspace {}.\n",
    " [0.94] Aggregating pct of count over year, positive slope 0.38 stood out using linear_shape test, considering only the subspace {}.\n",
    " [1.0] Aggregating rank of count over year, negative slope -1.00 stood out using linear_shape test, considering only the subspace {}.\n",
    " [1.0] Aggregating delta_avg of count over authid, maximum point 1155.66 stood out using normal test, considering only the subspace {}.\n",
    " [1.0] Aggregating delta_avg of count over paperid, maximum point 116.08 stood out using normal test, considering only the subspace {}.\n",
    "```"
   ]
  },
  {
   "cell_type": "markdown",
   "metadata": {},
   "source": [
    "# Normal Test: delta_avg of count over paperid"
   ]
  },
  {
   "cell_type": "code",
   "execution_count": 8,
   "metadata": {},
   "outputs": [
    {
     "name": "stdout",
     "output_type": "stream",
     "text": [
      "max number of paperauths for a paperid: 119\n"
     ]
    },
    {
     "data": {
      "text/html": [
       "<div>\n",
       "<style scoped>\n",
       "    .dataframe tbody tr th:only-of-type {\n",
       "        vertical-align: middle;\n",
       "    }\n",
       "\n",
       "    .dataframe tbody tr th {\n",
       "        vertical-align: top;\n",
       "    }\n",
       "\n",
       "    .dataframe thead th {\n",
       "        text-align: right;\n",
       "    }\n",
       "</style>\n",
       "<table border=\"1\" class=\"dataframe\">\n",
       "  <thead>\n",
       "    <tr style=\"text-align: right;\">\n",
       "      <th></th>\n",
       "      <th>M</th>\n",
       "    </tr>\n",
       "    <tr>\n",
       "      <th>paperid</th>\n",
       "      <th></th>\n",
       "    </tr>\n",
       "  </thead>\n",
       "  <tbody>\n",
       "    <tr>\n",
       "      <th>0</th>\n",
       "      <td>1</td>\n",
       "    </tr>\n",
       "    <tr>\n",
       "      <th>5</th>\n",
       "      <td>1</td>\n",
       "    </tr>\n",
       "    <tr>\n",
       "      <th>9</th>\n",
       "      <td>3</td>\n",
       "    </tr>\n",
       "    <tr>\n",
       "      <th>10</th>\n",
       "      <td>4</td>\n",
       "    </tr>\n",
       "    <tr>\n",
       "      <th>11</th>\n",
       "      <td>1</td>\n",
       "    </tr>\n",
       "  </tbody>\n",
       "</table>\n",
       "</div>"
      ],
      "text/plain": [
       "         M\n",
       "paperid   \n",
       "0        1\n",
       "5        1\n",
       "9        3\n",
       "10       4\n",
       "11       1"
      ]
     },
     "execution_count": 8,
     "metadata": {},
     "output_type": "execute_result"
    }
   ],
   "source": [
    "df1 = df.groupby('paperid').agg({'M':'sum'})\n",
    "print(\"max number of paperauths for a paperid:\", max(df1['M']))\n",
    "df1['delta_avg'] = df1['M'] - df1['M'].mean()\n",
    "print(\"max delta_avg of count of paperauths for a paperid:\", max(df1['M']))\n",
    "df1.head()"
   ]
  },
  {
   "cell_type": "code",
   "execution_count": null,
   "metadata": {},
   "outputs": [],
   "source": [
    "df1['rank'] = df1['delta_avg'].rank(method='first', ascending=False)"
   ]
  },
  {
   "cell_type": "code",
   "execution_count": null,
   "metadata": {},
   "outputs": [],
   "source": []
  },
  {
   "cell_type": "code",
   "execution_count": 15,
   "metadata": {},
   "outputs": [
    {
     "data": {
      "image/png": "[encoded data removed]",
      "text/plain": [
       "<Figure size 432x288 with 1 Axes>"
      ]
     },
     "metadata": {
      "needs_background": "light"
     },
     "output_type": "display_data"
    }
   ],
   "source": [
    "f1 = plt.scatter(df1['rank'], df1['delta_avg'], s=32, label='Δavg of count of papers for each author')\n",
    "plt.scatter([1], max(df1['delta_avg']), color=\"none\", edgecolor=\"g\", s=300, label='point insight')\n",
    "plt.title('Δavg(count(papers)) per author')\n",
    "plt.legend()\n",
    "plt.savefig('./figs/paperauths-1.png', bbox_inches = \"tight\")"
   ]
  },
  {
   "cell_type": "markdown",
   "metadata": {},
   "source": [
    "# Normal Test: delta_avg of count over authid"
   ]
  },
  {
   "cell_type": "code",
   "execution_count": 20,
   "metadata": {},
   "outputs": [],
   "source": [
    "df2 = df.groupby('authid').agg({'M':'sum'})\n",
    "df2['delta_avg'] = df2['M'] - df2['M'].mean()\n",
    "df2['rank'] = df2['delta_avg'].rank(method='first', ascending=False)"
   ]
  },
  {
   "cell_type": "code",
   "execution_count": 21,
   "metadata": {},
   "outputs": [
    {
     "data": {
      "image/png": "[encoded data removed]",
      "text/plain": [
       "<Figure size 432x288 with 1 Axes>"
      ]
     },
     "metadata": {
      "needs_background": "light"
     },
     "output_type": "display_data"
    }
   ],
   "source": [
    "f2 = plt.scatter(df2['rank'], df2['delta_avg'], s=32, label='Δavg of count of papers for each author')\n",
    "plt.scatter([1], max(df2['delta_avg']), color=\"none\", edgecolor=\"g\", s=300, label='point insight')\n",
    "plt.title('Δavg(count(authors)) for each paper')\n",
    "plt.legend()\n",
    "plt.savefig('./figs/paperauths-2.png', bbox_inches = \"tight\")"
   ]
  },
  {
   "cell_type": "code",
   "execution_count": null,
   "metadata": {},
   "outputs": [],
   "source": []
  }
 ],
 "metadata": {
  "kernelspec": {
   "display_name": "Python 3",
   "language": "python",
   "name": "python3"
  },
  "language_info": {
   "codemirror_mode": {
    "name": "ipython",
    "version": 3
   },
   "file_extension": ".py",
   "mimetype": "text/x-python",
   "name": "python",
   "nbconvert_exporter": "python",
   "pygments_lexer": "ipython3",
   "version": "3.6.1"
  }
 },
 "nbformat": 4,
 "nbformat_minor": 4
}
