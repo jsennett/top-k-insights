{
 "cells": [
  {
   "cell_type": "code",
   "execution_count": 3,
   "metadata": {},
   "outputs": [
    {
     "name": "stdout",
     "output_type": "stream",
     "text": [
      "cwd: /Users/jsennett/Code/top-k-insights/report/notebooks\n"
     ]
    }
   ],
   "source": [
    "import os\n",
    "print(\"cwd:\", os.getcwd())"
   ]
  },
  {
   "cell_type": "code",
   "execution_count": 209,
   "metadata": {},
   "outputs": [],
   "source": [
    "import pandas as pd\n",
    "import numpy as np\n",
    "import scipy\n",
    "import heapq\n",
    "import scipy.stats\n",
    "import matplotlib.pyplot as plt"
   ]
  },
  {
   "cell_type": "markdown",
   "metadata": {},
   "source": [
    "## Number of papers per author"
   ]
  },
  {
   "cell_type": "code",
   "execution_count": null,
   "metadata": {},
   "outputs": [],
   "source": [
    "filename = \"/Users/jsennett/Code/top-k-insights/data/all-author-paper-counts-by-year.csv\"\n",
    "df = pd.read_csv(filename, encoding='mac_roman')"
   ]
  },
  {
   "cell_type": "code",
   "execution_count": 30,
   "metadata": {},
   "outputs": [
    {
     "name": "stdout",
     "output_type": "stream",
     "text": [
      "4395104 rows (4.4 million)\n",
      "Index(['num_papers', 'year', 'authid', 'rank', 'log_rank', 'log_num_papers'], dtype='object')\n"
     ]
    },
    {
     "data": {
      "text/html": [
       "<div>\n",
       "<style scoped>\n",
       "    .dataframe tbody tr th:only-of-type {\n",
       "        vertical-align: middle;\n",
       "    }\n",
       "\n",
       "    .dataframe tbody tr th {\n",
       "        vertical-align: top;\n",
       "    }\n",
       "\n",
       "    .dataframe thead th {\n",
       "        text-align: right;\n",
       "    }\n",
       "</style>\n",
       "<table border=\"1\" class=\"dataframe\">\n",
       "  <thead>\n",
       "    <tr style=\"text-align: right;\">\n",
       "      <th></th>\n",
       "      <th>num_papers</th>\n",
       "      <th>year</th>\n",
       "      <th>authid</th>\n",
       "      <th>rank</th>\n",
       "      <th>log_rank</th>\n",
       "      <th>log_num_papers</th>\n",
       "    </tr>\n",
       "  </thead>\n",
       "  <tbody>\n",
       "    <tr>\n",
       "      <th>0</th>\n",
       "      <td>1</td>\n",
       "      <td>1990</td>\n",
       "      <td>0</td>\n",
       "      <td>1571776.0</td>\n",
       "      <td>20.583964</td>\n",
       "      <td>0.000000</td>\n",
       "    </tr>\n",
       "    <tr>\n",
       "      <th>1</th>\n",
       "      <td>4</td>\n",
       "      <td>1990</td>\n",
       "      <td>1</td>\n",
       "      <td>329751.0</td>\n",
       "      <td>18.331018</td>\n",
       "      <td>2.000000</td>\n",
       "    </tr>\n",
       "    <tr>\n",
       "      <th>2</th>\n",
       "      <td>5</td>\n",
       "      <td>1990</td>\n",
       "      <td>3</td>\n",
       "      <td>230373.0</td>\n",
       "      <td>17.813612</td>\n",
       "      <td>2.321928</td>\n",
       "    </tr>\n",
       "    <tr>\n",
       "      <th>3</th>\n",
       "      <td>1</td>\n",
       "      <td>1990</td>\n",
       "      <td>4</td>\n",
       "      <td>1571777.0</td>\n",
       "      <td>20.583965</td>\n",
       "      <td>0.000000</td>\n",
       "    </tr>\n",
       "    <tr>\n",
       "      <th>4</th>\n",
       "      <td>1</td>\n",
       "      <td>1990</td>\n",
       "      <td>7</td>\n",
       "      <td>1571778.0</td>\n",
       "      <td>20.583966</td>\n",
       "      <td>0.000000</td>\n",
       "    </tr>\n",
       "  </tbody>\n",
       "</table>\n",
       "</div>"
      ],
      "text/plain": [
       "   num_papers  year  authid       rank   log_rank  log_num_papers\n",
       "0           1  1990       0  1571776.0  20.583964        0.000000\n",
       "1           4  1990       1   329751.0  18.331018        2.000000\n",
       "2           5  1990       3   230373.0  17.813612        2.321928\n",
       "3           1  1990       4  1571777.0  20.583965        0.000000\n",
       "4           1  1990       7  1571778.0  20.583966        0.000000"
      ]
     },
     "execution_count": 30,
     "metadata": {},
     "output_type": "execute_result"
    }
   ],
   "source": [
    "print(len(data), \"rows (4.4 million)\")\n",
    "print(df.columns)\n",
    "df.head()\n"
   ]
  },
  {
   "cell_type": "code",
   "execution_count": 20,
   "metadata": {},
   "outputs": [
    {
     "data": {
      "text/html": [
       "<div>\n",
       "<style scoped>\n",
       "    .dataframe tbody tr th:only-of-type {\n",
       "        vertical-align: middle;\n",
       "    }\n",
       "\n",
       "    .dataframe tbody tr th {\n",
       "        vertical-align: top;\n",
       "    }\n",
       "\n",
       "    .dataframe thead th {\n",
       "        text-align: right;\n",
       "    }\n",
       "</style>\n",
       "<table border=\"1\" class=\"dataframe\">\n",
       "  <thead>\n",
       "    <tr style=\"text-align: right;\">\n",
       "      <th></th>\n",
       "      <th>num_papers</th>\n",
       "      <th>year</th>\n",
       "      <th>authid</th>\n",
       "    </tr>\n",
       "  </thead>\n",
       "  <tbody>\n",
       "    <tr>\n",
       "      <th>count</th>\n",
       "      <td>4.395104e+06</td>\n",
       "      <td>4.395104e+06</td>\n",
       "      <td>4.395104e+06</td>\n",
       "    </tr>\n",
       "    <tr>\n",
       "      <th>mean</th>\n",
       "      <td>1.980562e+00</td>\n",
       "      <td>2.007571e+03</td>\n",
       "      <td>5.751863e+05</td>\n",
       "    </tr>\n",
       "    <tr>\n",
       "      <th>std</th>\n",
       "      <td>2.490828e+00</td>\n",
       "      <td>6.059493e+00</td>\n",
       "      <td>4.682082e+05</td>\n",
       "    </tr>\n",
       "    <tr>\n",
       "      <th>min</th>\n",
       "      <td>1.000000e+00</td>\n",
       "      <td>1.990000e+03</td>\n",
       "      <td>0.000000e+00</td>\n",
       "    </tr>\n",
       "    <tr>\n",
       "      <th>25%</th>\n",
       "      <td>1.000000e+00</td>\n",
       "      <td>2.004000e+03</td>\n",
       "      <td>1.710480e+05</td>\n",
       "    </tr>\n",
       "    <tr>\n",
       "      <th>50%</th>\n",
       "      <td>1.000000e+00</td>\n",
       "      <td>2.009000e+03</td>\n",
       "      <td>4.489020e+05</td>\n",
       "    </tr>\n",
       "    <tr>\n",
       "      <th>75%</th>\n",
       "      <td>2.000000e+00</td>\n",
       "      <td>2.012000e+03</td>\n",
       "      <td>9.167660e+05</td>\n",
       "    </tr>\n",
       "    <tr>\n",
       "      <th>max</th>\n",
       "      <td>2.000000e+02</td>\n",
       "      <td>2.015000e+03</td>\n",
       "      <td>1.691340e+06</td>\n",
       "    </tr>\n",
       "  </tbody>\n",
       "</table>\n",
       "</div>"
      ],
      "text/plain": [
       "         num_papers          year        authid\n",
       "count  4.395104e+06  4.395104e+06  4.395104e+06\n",
       "mean   1.980562e+00  2.007571e+03  5.751863e+05\n",
       "std    2.490828e+00  6.059493e+00  4.682082e+05\n",
       "min    1.000000e+00  1.990000e+03  0.000000e+00\n",
       "25%    1.000000e+00  2.004000e+03  1.710480e+05\n",
       "50%    1.000000e+00  2.009000e+03  4.489020e+05\n",
       "75%    2.000000e+00  2.012000e+03  9.167660e+05\n",
       "max    2.000000e+02  2.015000e+03  1.691340e+06"
      ]
     },
     "execution_count": 20,
     "metadata": {},
     "output_type": "execute_result"
    }
   ],
   "source": [
    "df.describe()"
   ]
  },
  {
   "cell_type": "code",
   "execution_count": 23,
   "metadata": {},
   "outputs": [
    {
     "data": {
      "text/plain": [
       "<matplotlib.axes._subplots.AxesSubplot at 0x12a1a0d30>"
      ]
     },
     "execution_count": 23,
     "metadata": {},
     "output_type": "execute_result"
    },
    {
     "data": {
      "image/png": "[encoded data removed]",
      "text/plain": [
       "<Figure size 432x288 with 1 Axes>"
      ]
     },
     "metadata": {
      "needs_background": "light"
     },
     "output_type": "display_data"
    }
   ],
   "source": [
    "# Scatter plots of some relevant measures\n",
    "df.plot.scatter('year', 'num_papers')"
   ]
  },
  {
   "cell_type": "code",
   "execution_count": 28,
   "metadata": {},
   "outputs": [
    {
     "data": {
      "text/plain": [
       "<matplotlib.axes._subplots.AxesSubplot at 0x127102e80>"
      ]
     },
     "execution_count": 28,
     "metadata": {},
     "output_type": "execute_result"
    },
    {
     "data": {
      "image/png": "[encoded data removed]",
      "text/plain": [
       "<Figure size 432x288 with 1 Axes>"
      ]
     },
     "metadata": {
      "needs_background": "light"
     },
     "output_type": "display_data"
    }
   ],
   "source": [
    "# Plot num_papers versus rank\n",
    "df['rank'] = df['num_papers'].rank(method='first', ascending=False)\n",
    "df.plot.scatter('rank', 'num_papers')"
   ]
  },
  {
   "cell_type": "code",
   "execution_count": 29,
   "metadata": {},
   "outputs": [
    {
     "name": "stderr",
     "output_type": "stream",
     "text": [
      "/Users/jsennett/.pyenv/versions/3.6.1/envs/topk/lib/python3.6/site-packages/ipykernel_launcher.py:1: DeprecationWarning: scipy.log2 is deprecated and will be removed in SciPy 2.0.0, use numpy.lib.scimath.log2 instead\n",
      "  \"\"\"Entry point for launching an IPython kernel.\n",
      "/Users/jsennett/.pyenv/versions/3.6.1/envs/topk/lib/python3.6/site-packages/ipykernel_launcher.py:2: DeprecationWarning: scipy.log2 is deprecated and will be removed in SciPy 2.0.0, use numpy.lib.scimath.log2 instead\n",
      "  \n"
     ]
    },
    {
     "data": {
      "text/plain": [
       "<matplotlib.axes._subplots.AxesSubplot at 0x12a110eb8>"
      ]
     },
     "execution_count": 29,
     "metadata": {},
     "output_type": "execute_result"
    },
    {
     "data": {
      "image/png": "[encoded data removed]",
      "text/plain": [
       "<Figure size 432x288 with 1 Axes>"
      ]
     },
     "metadata": {
      "needs_background": "light"
     },
     "output_type": "display_data"
    }
   ],
   "source": [
    "df['log_rank'] = scipy.log2(df['rank'])\n",
    "df['log_num_papers'] = scipy.log2(df['num_papers'])\n",
    "df.plot.scatter('log_rank', 'log_num_papers')"
   ]
  },
  {
   "cell_type": "markdown",
   "metadata": {},
   "source": [
    "## All papers"
   ]
  },
  {
   "cell_type": "code",
   "execution_count": 5,
   "metadata": {},
   "outputs": [],
   "source": [
    "papers_filename = \"/Users/jsennett/Code/top-k-insights/data/all-papers.csv\"\n",
    "p_df = pd.read_csv(papers_filename, encoding='mac_roman', dtype = {'school': str})"
   ]
  },
  {
   "cell_type": "code",
   "execution_count": 6,
   "metadata": {},
   "outputs": [
    {
     "name": "stdout",
     "output_type": "stream",
     "text": [
      "2991406 rows (4.4 million)\n",
      "Index(['paperid', 'venue_name', 'year', 'school', 'venue_type'], dtype='object')\n"
     ]
    },
    {
     "data": {
      "text/html": [
       "<div>\n",
       "<style scoped>\n",
       "    .dataframe tbody tr th:only-of-type {\n",
       "        vertical-align: middle;\n",
       "    }\n",
       "\n",
       "    .dataframe tbody tr th {\n",
       "        vertical-align: top;\n",
       "    }\n",
       "\n",
       "    .dataframe thead th {\n",
       "        text-align: right;\n",
       "    }\n",
       "</style>\n",
       "<table border=\"1\" class=\"dataframe\">\n",
       "  <thead>\n",
       "    <tr style=\"text-align: right;\">\n",
       "      <th></th>\n",
       "      <th>paperid</th>\n",
       "      <th>venue_name</th>\n",
       "      <th>year</th>\n",
       "      <th>school</th>\n",
       "      <th>venue_type</th>\n",
       "    </tr>\n",
       "  </thead>\n",
       "  <tbody>\n",
       "    <tr>\n",
       "      <th>0</th>\n",
       "      <td>5389</td>\n",
       "      <td>Future Generation Comp. Syst.</td>\n",
       "      <td>2004</td>\n",
       "      <td>NaN</td>\n",
       "      <td>0</td>\n",
       "    </tr>\n",
       "    <tr>\n",
       "      <th>1</th>\n",
       "      <td>5390</td>\n",
       "      <td>Future Generation Comp. Syst.</td>\n",
       "      <td>2010</td>\n",
       "      <td>NaN</td>\n",
       "      <td>0</td>\n",
       "    </tr>\n",
       "    <tr>\n",
       "      <th>2</th>\n",
       "      <td>5407</td>\n",
       "      <td>Future Generation Comp. Syst.</td>\n",
       "      <td>2009</td>\n",
       "      <td>NaN</td>\n",
       "      <td>0</td>\n",
       "    </tr>\n",
       "    <tr>\n",
       "      <th>3</th>\n",
       "      <td>5414</td>\n",
       "      <td>Future Generation Comp. Syst.</td>\n",
       "      <td>2001</td>\n",
       "      <td>NaN</td>\n",
       "      <td>0</td>\n",
       "    </tr>\n",
       "    <tr>\n",
       "      <th>4</th>\n",
       "      <td>5449</td>\n",
       "      <td>Future Generation Comp. Syst.</td>\n",
       "      <td>2004</td>\n",
       "      <td>NaN</td>\n",
       "      <td>0</td>\n",
       "    </tr>\n",
       "  </tbody>\n",
       "</table>\n",
       "</div>"
      ],
      "text/plain": [
       "   paperid                     venue_name  year school  venue_type\n",
       "0     5389  Future Generation Comp. Syst.  2004    NaN           0\n",
       "1     5390  Future Generation Comp. Syst.  2010    NaN           0\n",
       "2     5407  Future Generation Comp. Syst.  2009    NaN           0\n",
       "3     5414  Future Generation Comp. Syst.  2001    NaN           0\n",
       "4     5449  Future Generation Comp. Syst.  2004    NaN           0"
      ]
     },
     "execution_count": 6,
     "metadata": {},
     "output_type": "execute_result"
    }
   ],
   "source": [
    "print(len(p_df), \"rows (4.4 million)\")\n",
    "print(p_df.columns)\n",
    "p_df.head()"
   ]
  },
  {
   "cell_type": "code",
   "execution_count": 7,
   "metadata": {},
   "outputs": [
    {
     "data": {
      "text/plain": [
       "<matplotlib.axes._subplots.AxesSubplot at 0x1035bbdd8>"
      ]
     },
     "execution_count": 7,
     "metadata": {},
     "output_type": "execute_result"
    },
    {
     "data": {
      "image/png": "[encoded data removed]",
      "text/plain": [
       "<Figure size 432x288 with 1 Axes>"
      ]
     },
     "metadata": {
      "needs_background": "light"
     },
     "output_type": "display_data"
    }
   ],
   "source": [
    "# Insight: positive trend of paper counts over year considering the full set of data\n",
    "p_df.groupby('year')\\\n",
    "    .agg('count')\\\n",
    "    .reset_index()\\\n",
    "    .rename(columns={'paperid':'number of papers'})\\\n",
    "    .plot.scatter('year', 'number of papers')"
   ]
  },
  {
   "cell_type": "code",
   "execution_count": 8,
   "metadata": {},
   "outputs": [
    {
     "data": {
      "text/plain": [
       "<matplotlib.axes._subplots.AxesSubplot at 0x10412fd30>"
      ]
     },
     "execution_count": 8,
     "metadata": {},
     "output_type": "execute_result"
    },
    {
     "data": {
      "image/png": "[encoded data removed]",
      "text/plain": [
       "<Figure size 432x288 with 1 Axes>"
      ]
     },
     "metadata": {
      "needs_background": "light"
     },
     "output_type": "display_data"
    }
   ],
   "source": [
    "# Insight: positive trend of paper counts over year considering the full set of data\n",
    "p_df[p_df['venue_type'] == 1].groupby('year')\\\n",
    "    .agg('count')\\\n",
    "    .reset_index()\\\n",
    "    .rename(columns={'paperid':'number of papers'})\\\n",
    "    .plot.scatter('year', 'number of papers')"
   ]
  },
  {
   "cell_type": "code",
   "execution_count": 9,
   "metadata": {},
   "outputs": [
    {
     "data": {
      "text/plain": [
       "2014    113308\n",
       "2015    111441\n",
       "2013    107439\n",
       "2012    100868\n",
       "2011     92914\n",
       "2010     86390\n",
       "2009     79643\n",
       "2008     72474\n",
       "2007     66958\n",
       "2006     59665\n",
       "2005     52474\n",
       "2004     44429\n",
       "2003     40648\n",
       "2002     35316\n",
       "2001     32921\n",
       "2000     30846\n",
       "1999     26084\n",
       "1998     23625\n",
       "1997     21491\n",
       "1996     20078\n",
       "1995     18390\n",
       "1994     16810\n",
       "1993     15366\n",
       "1992     13455\n",
       "1991     11976\n",
       "1990     10266\n",
       "Name: year, dtype: int64"
      ]
     },
     "execution_count": 9,
     "metadata": {},
     "output_type": "execute_result"
    }
   ],
   "source": [
    "p_df[p_df['venue_type'] == 0]['year'].value_counts()"
   ]
  },
  {
   "cell_type": "code",
   "execution_count": 10,
   "metadata": {},
   "outputs": [],
   "source": [
    "p_df['M'] = 1"
   ]
  },
  {
   "cell_type": "code",
   "execution_count": 11,
   "metadata": {},
   "outputs": [
    {
     "data": {
      "text/plain": [
       "<matplotlib.axes._subplots.AxesSubplot at 0x1166d72b0>"
      ]
     },
     "execution_count": 11,
     "metadata": {},
     "output_type": "execute_result"
    },
    {
     "data": {
      "image/png": "[encoded data removed]",
      "text/plain": [
       "<Figure size 432x288 with 1 Axes>"
      ]
     },
     "metadata": {
      "needs_background": "light"
     },
     "output_type": "display_data"
    }
   ],
   "source": [
    "# Insight: positive trend of paper counts over year considering the full set of data\n",
    "p_df[p_df['venue_type'] == 1].groupby('year')\\\n",
    "    .agg('count')\\\n",
    "    .reset_index()\\\n",
    "    .rename(columns={'paperid':'number of papers'})\\\n",
    "    .plot.scatter('year', 'number of papers')"
   ]
  },
  {
   "cell_type": "code",
   "execution_count": 32,
   "metadata": {},
   "outputs": [],
   "source": [
    "def scatter(df, dimension):\n",
    "    return df.groupby(dimension)\\\n",
    "        .agg('count')\\\n",
    "        .reset_index()\\\n",
    "        .rename(columns={'paperid':'number of papers'})\\\n",
    "        .plot.scatter(dimension, 'number of papers')"
   ]
  },
  {
   "cell_type": "code",
   "execution_count": 23,
   "metadata": {},
   "outputs": [],
   "source": [
    "def rank_scatter(df, dimension):\n",
    "    rank_df = df.groupby(dimension).agg('count').reset_index()\n",
    "    rank_df['rank'] = rank_df['M'].rank(method='first', ascending=False)\n",
    "    return rank_df.plot.scatter(x='rank', y='M', label='rank of ' + dimension)"
   ]
  },
  {
   "cell_type": "code",
   "execution_count": 26,
   "metadata": {},
   "outputs": [
    {
     "data": {
      "text/plain": [
       "<matplotlib.axes._subplots.AxesSubplot at 0x1169f4a90>"
      ]
     },
     "execution_count": 26,
     "metadata": {},
     "output_type": "execute_result"
    },
    {
     "data": {
      "image/png": "[encoded data removed]",
      "text/plain": [
       "<Figure size 432x288 with 1 Axes>"
      ]
     },
     "metadata": {
      "needs_background": "light"
     },
     "output_type": "display_data"
    }
   ],
   "source": [
    "rank_scatter(p_df, 'year')"
   ]
  },
  {
   "cell_type": "code",
   "execution_count": 15,
   "metadata": {},
   "outputs": [
    {
     "data": {
      "text/plain": [
       "<matplotlib.axes._subplots.AxesSubplot at 0x116402128>"
      ]
     },
     "execution_count": 15,
     "metadata": {},
     "output_type": "execute_result"
    },
    {
     "data": {
      "image/png": "[encoded data removed]",
      "text/plain": [
       "<Figure size 432x288 with 1 Axes>"
      ]
     },
     "metadata": {
      "needs_background": "light"
     },
     "output_type": "display_data"
    }
   ],
   "source": [
    "venue_ranks['rank'] = venue_ranks['M'].rank(method='first', ascending=False)\n",
    "venue_ranks.plot.scatter(x='rank', y='M')"
   ]
  },
  {
   "cell_type": "code",
   "execution_count": 20,
   "metadata": {},
   "outputs": [
    {
     "data": {
      "text/plain": [
       "0          4674.0\n",
       "1          4675.0\n",
       "2          4692.0\n",
       "3          4699.0\n",
       "4          4734.0\n",
       "            ...  \n",
       "2991401    4583.0\n",
       "2991402    4617.0\n",
       "2991403    4627.0\n",
       "2991404    4646.0\n",
       "2991405    4653.0\n",
       "Name: paperid, Length: 2991406, dtype: float64"
      ]
     },
     "execution_count": 20,
     "metadata": {},
     "output_type": "execute_result"
    }
   ],
   "source": [
    "p_df['paperid'].rank()"
   ]
  },
  {
   "cell_type": "code",
   "execution_count": null,
   "metadata": {},
   "outputs": [],
   "source": [
    "p_df.groupby('venue_name').agg('count').head().rank()\n",
    "\n",
    "df['rank'] = df['num_papers'].rank(method='first', ascending=False)"
   ]
  },
  {
   "cell_type": "code",
   "execution_count": 41,
   "metadata": {},
   "outputs": [
    {
     "data": {
      "text/html": [
       "<div>\n",
       "<style scoped>\n",
       "    .dataframe tbody tr th:only-of-type {\n",
       "        vertical-align: middle;\n",
       "    }\n",
       "\n",
       "    .dataframe tbody tr th {\n",
       "        vertical-align: top;\n",
       "    }\n",
       "\n",
       "    .dataframe thead th {\n",
       "        text-align: right;\n",
       "    }\n",
       "</style>\n",
       "<table border=\"1\" class=\"dataframe\">\n",
       "  <thead>\n",
       "    <tr style=\"text-align: right;\">\n",
       "      <th></th>\n",
       "      <th>venue_name</th>\n",
       "      <th>year</th>\n",
       "      <th>M</th>\n",
       "    </tr>\n",
       "  </thead>\n",
       "  <tbody>\n",
       "    <tr>\n",
       "      <th>0</th>\n",
       "      <td>\"CloudCom-Asia</td>\n",
       "      <td>2015</td>\n",
       "      <td>7.0</td>\n",
       "    </tr>\n",
       "    <tr>\n",
       "      <th>1</th>\n",
       "      <td>#MSM</td>\n",
       "      <td>2011</td>\n",
       "      <td>-3.0</td>\n",
       "    </tr>\n",
       "    <tr>\n",
       "      <th>2</th>\n",
       "      <td>#MSM</td>\n",
       "      <td>2012</td>\n",
       "      <td>-13.0</td>\n",
       "    </tr>\n",
       "    <tr>\n",
       "      <th>3</th>\n",
       "      <td>#MSM</td>\n",
       "      <td>2013</td>\n",
       "      <td>-74.0</td>\n",
       "    </tr>\n",
       "    <tr>\n",
       "      <th>4</th>\n",
       "      <td>#MSM</td>\n",
       "      <td>2014</td>\n",
       "      <td>-78.0</td>\n",
       "    </tr>\n",
       "  </tbody>\n",
       "</table>\n",
       "</div>"
      ],
      "text/plain": [
       "       venue_name  year     M\n",
       "0  \"CloudCom-Asia  2015   7.0\n",
       "1            #MSM  2011  -3.0\n",
       "2            #MSM  2012 -13.0\n",
       "3            #MSM  2013 -74.0\n",
       "4            #MSM  2014 -78.0"
      ]
     },
     "execution_count": 41,
     "metadata": {},
     "output_type": "execute_result"
    }
   ],
   "source": [
    "result_set = p_df.groupby(['venue_name', 'year']).agg({'M':'sum'}).reset_index()\n",
    "result_set['M'] = result_set.sort_values(\"year\")['M'].diff()\n",
    "result_set.head()"
   ]
  },
  {
   "cell_type": "code",
   "execution_count": null,
   "metadata": {},
   "outputs": [],
   "source": [
    "result_set['absM'] = abs(result_set['M'])"
   ]
  },
  {
   "cell_type": "code",
   "execution_count": null,
   "metadata": {},
   "outputs": [],
   "source": [
    "rank_scatter(result_set, 'absM')"
   ]
  },
  {
   "cell_type": "code",
   "execution_count": 49,
   "metadata": {},
   "outputs": [
    {
     "name": "stderr",
     "output_type": "stream",
     "text": [
      "/Users/jsennett/.pyenv/versions/3.6.1/envs/topk/lib/python3.6/site-packages/ipykernel_launcher.py:2: DeprecationWarning: scipy.log2 is deprecated and will be removed in SciPy 2.0.0, use numpy.lib.scimath.log2 instead\n",
      "  \n",
      "/Users/jsennett/.pyenv/versions/3.6.1/envs/topk/lib/python3.6/site-packages/numpy/lib/scimath.py:122: RuntimeWarning: invalid value encountered in less\n",
      "  if any(isreal(x) & (x < 0)):\n",
      "/Users/jsennett/.pyenv/versions/3.6.1/envs/topk/lib/python3.6/site-packages/numpy/lib/scimath.py:412: RuntimeWarning: divide by zero encountered in log2\n",
      "  return nx.log2(x)\n",
      "/Users/jsennett/.pyenv/versions/3.6.1/envs/topk/lib/python3.6/site-packages/ipykernel_launcher.py:3: DeprecationWarning: scipy.log2 is deprecated and will be removed in SciPy 2.0.0, use numpy.lib.scimath.log2 instead\n",
      "  This is separate from the ipykernel package so we can avoid doing imports until\n"
     ]
    }
   ],
   "source": [
    "import scipy\n",
    "result_set['logabsM'] = scipy.log2(result_set['absM'])\n",
    "result_set['logrank'] = scipy.log2(result_set['M'].rank(method='first', ascending=False))"
   ]
  },
  {
   "cell_type": "code",
   "execution_count": 63,
   "metadata": {},
   "outputs": [
    {
     "data": {
      "text/plain": [
       "<matplotlib.axes._subplots.AxesSubplot at 0x12d765ba8>"
      ]
     },
     "execution_count": 63,
     "metadata": {},
     "output_type": "execute_result"
    },
    {
     "data": {
      "image/png": "[encoded data removed]",
      "text/plain": [
       "<Figure size 432x288 with 1 Axes>"
      ]
     },
     "metadata": {
      "needs_background": "light"
     },
     "output_type": "display_data"
    }
   ],
   "source": [
    "result_set['rank'] = result_set['M'].rank(method='first', ascending=False)\n",
    "result_set.plot.scatter('rank', 'M')"
   ]
  },
  {
   "cell_type": "code",
   "execution_count": 68,
   "metadata": {},
   "outputs": [
    {
     "data": {
      "text/plain": [
       "<matplotlib.axes._subplots.AxesSubplot at 0x1242ac358>"
      ]
     },
     "execution_count": 68,
     "metadata": {},
     "output_type": "execute_result"
    },
    {
     "data": {
      "image/png": "[encoded data removed]",
      "text/plain": [
       "<Figure size 432x288 with 1 Axes>"
      ]
     },
     "metadata": {
      "needs_background": "light"
     },
     "output_type": "display_data"
    }
   ],
   "source": [
    "result_set[result_set['M'] > 0].plot.scatter('logrank', 'logabsM')"
   ]
  },
  {
   "cell_type": "code",
   "execution_count": null,
   "metadata": {},
   "outputs": [],
   "source": [
    "result_set[result_set['M'] > 50].plot.scatter('rank', 'M')"
   ]
  },
  {
   "cell_type": "code",
   "execution_count": null,
   "metadata": {},
   "outputs": [],
   "source": [
    "cutoff = 0.2\n",
    "result_set[result_set['rank'] < cutoff * len(result_set)].plot.scatter('logrank', 'logabsM')"
   ]
  },
  {
   "cell_type": "code",
   "execution_count": 108,
   "metadata": {},
   "outputs": [],
   "source": [
    "# pct of total:\n",
    "pct_of_total = p_df.copy()"
   ]
  },
  {
   "cell_type": "code",
   "execution_count": 109,
   "metadata": {},
   "outputs": [
    {
     "data": {
      "text/html": [
       "<div>\n",
       "<style scoped>\n",
       "    .dataframe tbody tr th:only-of-type {\n",
       "        vertical-align: middle;\n",
       "    }\n",
       "\n",
       "    .dataframe tbody tr th {\n",
       "        vertical-align: top;\n",
       "    }\n",
       "\n",
       "    .dataframe thead th {\n",
       "        text-align: right;\n",
       "    }\n",
       "</style>\n",
       "<table border=\"1\" class=\"dataframe\">\n",
       "  <thead>\n",
       "    <tr style=\"text-align: right;\">\n",
       "      <th></th>\n",
       "      <th>venue_name</th>\n",
       "      <th>M</th>\n",
       "    </tr>\n",
       "  </thead>\n",
       "  <tbody>\n",
       "    <tr>\n",
       "      <th>0</th>\n",
       "      <td>\"CloudCom-Asia</td>\n",
       "      <td>29</td>\n",
       "    </tr>\n",
       "    <tr>\n",
       "      <th>1</th>\n",
       "      <td>#MSM</td>\n",
       "      <td>64</td>\n",
       "    </tr>\n",
       "    <tr>\n",
       "      <th>2</th>\n",
       "      <td>10th Anniversary Colloquium of UNU/IIST</td>\n",
       "      <td>26</td>\n",
       "    </tr>\n",
       "    <tr>\n",
       "      <th>3</th>\n",
       "      <td>15. WLP</td>\n",
       "      <td>12</td>\n",
       "    </tr>\n",
       "    <tr>\n",
       "      <th>4</th>\n",
       "      <td>1999 ACM SIGMOD Workshop on Research Issues in...</td>\n",
       "      <td>12</td>\n",
       "    </tr>\n",
       "  </tbody>\n",
       "</table>\n",
       "</div>"
      ],
      "text/plain": [
       "                                          venue_name   M\n",
       "0                                     \"CloudCom-Asia  29\n",
       "1                                               #MSM  64\n",
       "2            10th Anniversary Colloquium of UNU/IIST  26\n",
       "3                                            15. WLP  12\n",
       "4  1999 ACM SIGMOD Workshop on Research Issues in...  12"
      ]
     },
     "execution_count": 109,
     "metadata": {},
     "output_type": "execute_result"
    }
   ],
   "source": [
    "pct_of_total = pct_of_total.groupby(['venue_name']).agg({'M':'sum'})\n",
    "pct_of_total = pct_of_total.reset_index(drop=False)\n",
    "pct_of_total.head()"
   ]
  },
  {
   "cell_type": "code",
   "execution_count": 110,
   "metadata": {},
   "outputs": [],
   "source": [
    "pct_of_total['M'] = 100 * pct_of_total['M'] / sum(pct_of_total['M'])"
   ]
  },
  {
   "cell_type": "code",
   "execution_count": null,
   "metadata": {},
   "outputs": [],
   "source": [
    "pct_of_total['rank'] = pct_of_total['M'].rank(method='first', ascending=False)\n",
    "pct_of_total.plot.scatter('rank', 'M')"
   ]
  },
  {
   "cell_type": "code",
   "execution_count": null,
   "metadata": {},
   "outputs": [],
   "source": [
    "pct_of_total['logrank'] = scipy.log2(pct_of_total['rank'])\n",
    "pct_of_total['logM'] = scipy.log2(pct_of_total['M'])\n",
    "pct_of_total.plot.scatter('logrank', 'logM')"
   ]
  },
  {
   "cell_type": "code",
   "execution_count": 114,
   "metadata": {},
   "outputs": [
    {
     "data": {
      "text/plain": [
       "<matplotlib.axes._subplots.AxesSubplot at 0x11e80d208>"
      ]
     },
     "execution_count": 114,
     "metadata": {},
     "output_type": "execute_result"
    },
    {
     "data": {
      "image/png": "[encoded data removed]",
      "text/plain": [
       "<Figure size 432x288 with 1 Axes>"
      ]
     },
     "metadata": {
      "needs_background": "light"
     },
     "output_type": "display_data"
    }
   ],
   "source": [
    "pct_of_total.plot.scatter('logrank', 'M')"
   ]
  },
  {
   "cell_type": "code",
   "execution_count": null,
   "metadata": {},
   "outputs": [],
   "source": [
    "pct_of_total['M'] = 100 * result_set['M'] / sum(result_set['M'])\n",
    "result_set['M'] = 100 * result_set[self.measure] / sum(result_set[self.measure])\n",
    "p_df.head()"
   ]
  },
  {
   "cell_type": "code",
   "execution_count": 127,
   "metadata": {},
   "outputs": [
    {
     "name": "stdout",
     "output_type": "stream",
     "text": [
      "2.3631801727605293\n",
      "2.175786183558252\n",
      "0.6338443396226415\n"
     ]
    }
   ],
   "source": [
    "# Validate composite extractor result sets\n",
    "\"\"\"\n",
    "INFO:root:Valid SG/CE combo: subspace({'year': 2000}), dim(venue_type), ce([['count', 'count'], ['pct', 'year']])\n",
    "INFO:root:extract_result_set({'year': 2000}, venue_type, [['count', 'count'], ['pct', 'year']]\n",
    "INFO:root:RESULT SET:\n",
    "     venue_type  year  count mod2         M\n",
    "10           0  2000  30846    *  2.363180\n",
    "36           1  2000  36539    *  2.175786\n",
    "62           3  2000     43    *  0.633844\n",
    "\"\"\"\n",
    "print(100 * len(p_df[(p_df['year']==2000) & (p_df['venue_type'] == 0)]) / len(p_df[p_df['venue_type']==0]))\n",
    "print(100 * len(p_df[(p_df['year']==2000) & (p_df['venue_type'] == 1)]) / len(p_df[p_df['venue_type']==1]))\n",
    "print(100 * len(p_df[(p_df['year']==2000) & (p_df['venue_type'] == 3)]) / len(p_df[p_df['venue_type']==3]))"
   ]
  },
  {
   "cell_type": "code",
   "execution_count": null,
   "metadata": {},
   "outputs": [],
   "source": [
    "\"\"\"\n",
    "INFO:root:extract_result_set({'year': 2000}, venue_type, [['count', 'count'], ['delta_prev', 'year']]\n",
    "returning result set:\n",
    "\n",
    "    venue_type  year  count mod2     M\n",
    "1           0  2000  30846    *  4762\n",
    "3           1  2000  36539    *  3805\n",
    "5           3  2000     43    *     3\n",
    "\"\"\"\n",
    "print(len(p_df[(p_df['year'] == 2000) & (p_df['venue_type'] == 0)]) - len(p_df[(p_df['year'] == 1999) & (p_df['venue_type'] == 0)]))\n",
    "print(len(p_df[(p_df['year'] == 2000) & (p_df['venue_type'] == 1)]) - len(p_df[(p_df['year'] == 1999) & (p_df['venue_type'] == 1)]))\n",
    "print(len(p_df[(p_df['year'] == 2000) & (p_df['venue_type'] == 3)]) - len(p_df[(p_df['year'] == 1999) & (p_df['venue_type'] == 3)]))"
   ]
  },
  {
   "cell_type": "code",
   "execution_count": 134,
   "metadata": {},
   "outputs": [
    {
     "data": {
      "text/plain": [
       "<matplotlib.axes._subplots.AxesSubplot at 0x11efa0ba8>"
      ]
     },
     "execution_count": 134,
     "metadata": {},
     "output_type": "execute_result"
    },
    {
     "data": {
      "image/png": "[encoded data removed]",
      "text/plain": [
       "<Figure size 432x288 with 1 Axes>"
      ]
     },
     "metadata": {
      "needs_background": "light"
     },
     "output_type": "display_data"
    }
   ],
   "source": [
    "x = pd.DataFrame([10 * np.random.normal() + 15 for _ in range(100)], columns=['M'])\n",
    "x['M'].hist()"
   ]
  },
  {
   "cell_type": "code",
   "execution_count": null,
   "metadata": {},
   "outputs": [],
   "source": [
    "max(x['M'])\n",
    "scipy.stats.norm.pdf()"
   ]
  },
  {
   "cell_type": "code",
   "execution_count": null,
   "metadata": {},
   "outputs": [],
   "source": [
    "(38 - x['M'].mean()) / x['M'].std()"
   ]
  },
  {
   "cell_type": "code",
   "execution_count": null,
   "metadata": {},
   "outputs": [],
   "source": [
    "scipy.stats.norm.ppf(100/)"
   ]
  },
  {
   "cell_type": "code",
   "execution_count": null,
   "metadata": {},
   "outputs": [],
   "source": [
    "x.rank(method='first', ascending=False)"
   ]
  },
  {
   "cell_type": "code",
   "execution_count": 147,
   "metadata": {},
   "outputs": [
    {
     "data": {
      "text/plain": [
       "array([[<matplotlib.axes._subplots.AxesSubplot object at 0x13f067eb8>]],\n",
       "      dtype=object)"
      ]
     },
     "execution_count": 147,
     "metadata": {},
     "output_type": "execute_result"
    },
    {
     "data": {
      "image/png": "[encoded data removed]",
      "text/plain": [
       "<Figure size 432x288 with 1 Axes>"
      ]
     },
     "metadata": {
      "needs_background": "light"
     },
     "output_type": "display_data"
    }
   ],
   "source": [
    "x.hist()"
   ]
  },
  {
   "cell_type": "code",
   "execution_count": 156,
   "metadata": {},
   "outputs": [],
   "source": [
    "x['rank'] = x['M'].rank(ascending=True, method='first')\n",
    "x['pct'] = x['rank'] / (len(x)+1)\n",
    "x['Z'] = (x['M'] - x['M'].mean()) / x['M'].std()\n",
    "x['predZ'] = scipy.stats.norm.pdf(x['pct'])\n",
    "x['pred'] = x['pct'] * x['M'].std() + x['M'].mean()"
   ]
  },
  {
   "cell_type": "code",
   "execution_count": null,
   "metadata": {},
   "outputs": [],
   "source": [
    "x['pred'].hist()"
   ]
  },
  {
   "cell_type": "code",
   "execution_count": 166,
   "metadata": {},
   "outputs": [
    {
     "data": {
      "text/html": [
       "<div>\n",
       "<style scoped>\n",
       "    .dataframe tbody tr th:only-of-type {\n",
       "        vertical-align: middle;\n",
       "    }\n",
       "\n",
       "    .dataframe tbody tr th {\n",
       "        vertical-align: top;\n",
       "    }\n",
       "\n",
       "    .dataframe thead th {\n",
       "        text-align: right;\n",
       "    }\n",
       "</style>\n",
       "<table border=\"1\" class=\"dataframe\">\n",
       "  <thead>\n",
       "    <tr style=\"text-align: right;\">\n",
       "      <th></th>\n",
       "      <th>M</th>\n",
       "      <th>rank</th>\n",
       "      <th>pct</th>\n",
       "      <th>Z</th>\n",
       "      <th>predZ</th>\n",
       "      <th>pred</th>\n",
       "    </tr>\n",
       "  </thead>\n",
       "  <tbody>\n",
       "    <tr>\n",
       "      <th>0</th>\n",
       "      <td>6.771423</td>\n",
       "      <td>22.0</td>\n",
       "      <td>0.217822</td>\n",
       "      <td>-0.700520</td>\n",
       "      <td>0.389589</td>\n",
       "      <td>15.949612</td>\n",
       "    </tr>\n",
       "    <tr>\n",
       "      <th>1</th>\n",
       "      <td>38.250489</td>\n",
       "      <td>100.0</td>\n",
       "      <td>0.990099</td>\n",
       "      <td>2.449180</td>\n",
       "      <td>0.244366</td>\n",
       "      <td>23.667987</td>\n",
       "    </tr>\n",
       "    <tr>\n",
       "      <th>2</th>\n",
       "      <td>-8.598282</td>\n",
       "      <td>3.0</td>\n",
       "      <td>0.029703</td>\n",
       "      <td>-2.238366</td>\n",
       "      <td>0.398766</td>\n",
       "      <td>14.069496</td>\n",
       "    </tr>\n",
       "    <tr>\n",
       "      <th>3</th>\n",
       "      <td>19.697190</td>\n",
       "      <td>73.0</td>\n",
       "      <td>0.722772</td>\n",
       "      <td>0.592793</td>\n",
       "      <td>0.307236</td>\n",
       "      <td>20.996242</td>\n",
       "    </tr>\n",
       "    <tr>\n",
       "      <th>4</th>\n",
       "      <td>-2.258100</td>\n",
       "      <td>6.0</td>\n",
       "      <td>0.059406</td>\n",
       "      <td>-1.603987</td>\n",
       "      <td>0.398239</td>\n",
       "      <td>14.366356</td>\n",
       "    </tr>\n",
       "    <tr>\n",
       "      <th>5</th>\n",
       "      <td>28.667375</td>\n",
       "      <td>94.0</td>\n",
       "      <td>0.930693</td>\n",
       "      <td>1.490323</td>\n",
       "      <td>0.258714</td>\n",
       "      <td>23.074266</td>\n",
       "    </tr>\n",
       "    <tr>\n",
       "      <th>6</th>\n",
       "      <td>7.262322</td>\n",
       "      <td>25.0</td>\n",
       "      <td>0.247525</td>\n",
       "      <td>-0.651402</td>\n",
       "      <td>0.386906</td>\n",
       "      <td>16.246473</td>\n",
       "    </tr>\n",
       "    <tr>\n",
       "      <th>7</th>\n",
       "      <td>30.158047</td>\n",
       "      <td>96.0</td>\n",
       "      <td>0.950495</td>\n",
       "      <td>1.639475</td>\n",
       "      <td>0.253940</td>\n",
       "      <td>23.272173</td>\n",
       "    </tr>\n",
       "    <tr>\n",
       "      <th>8</th>\n",
       "      <td>24.714445</td>\n",
       "      <td>85.0</td>\n",
       "      <td>0.841584</td>\n",
       "      <td>1.094804</td>\n",
       "      <td>0.279971</td>\n",
       "      <td>22.183684</td>\n",
       "    </tr>\n",
       "    <tr>\n",
       "      <th>9</th>\n",
       "      <td>-0.213637</td>\n",
       "      <td>8.0</td>\n",
       "      <td>0.079208</td>\n",
       "      <td>-1.399424</td>\n",
       "      <td>0.397693</td>\n",
       "      <td>14.564263</td>\n",
       "    </tr>\n",
       "    <tr>\n",
       "      <th>10</th>\n",
       "      <td>16.941651</td>\n",
       "      <td>62.0</td>\n",
       "      <td>0.613861</td>\n",
       "      <td>0.317082</td>\n",
       "      <td>0.330433</td>\n",
       "      <td>19.907753</td>\n",
       "    </tr>\n",
       "    <tr>\n",
       "      <th>11</th>\n",
       "      <td>-11.494205</td>\n",
       "      <td>1.0</td>\n",
       "      <td>0.009901</td>\n",
       "      <td>-2.528124</td>\n",
       "      <td>0.398923</td>\n",
       "      <td>13.871589</td>\n",
       "    </tr>\n",
       "    <tr>\n",
       "      <th>12</th>\n",
       "      <td>13.252900</td>\n",
       "      <td>47.0</td>\n",
       "      <td>0.465347</td>\n",
       "      <td>-0.052003</td>\n",
       "      <td>0.358004</td>\n",
       "      <td>18.423450</td>\n",
       "    </tr>\n",
       "    <tr>\n",
       "      <th>13</th>\n",
       "      <td>13.814717</td>\n",
       "      <td>52.0</td>\n",
       "      <td>0.514851</td>\n",
       "      <td>0.004211</td>\n",
       "      <td>0.349422</td>\n",
       "      <td>18.918218</td>\n",
       "    </tr>\n",
       "    <tr>\n",
       "      <th>14</th>\n",
       "      <td>7.703141</td>\n",
       "      <td>27.0</td>\n",
       "      <td>0.267327</td>\n",
       "      <td>-0.607295</td>\n",
       "      <td>0.384939</td>\n",
       "      <td>16.444380</td>\n",
       "    </tr>\n",
       "    <tr>\n",
       "      <th>15</th>\n",
       "      <td>2.012392</td>\n",
       "      <td>13.0</td>\n",
       "      <td>0.128713</td>\n",
       "      <td>-1.176694</td>\n",
       "      <td>0.395651</td>\n",
       "      <td>15.059031</td>\n",
       "    </tr>\n",
       "    <tr>\n",
       "      <th>16</th>\n",
       "      <td>21.757046</td>\n",
       "      <td>76.0</td>\n",
       "      <td>0.752475</td>\n",
       "      <td>0.798896</td>\n",
       "      <td>0.300578</td>\n",
       "      <td>21.293102</td>\n",
       "    </tr>\n",
       "    <tr>\n",
       "      <th>17</th>\n",
       "      <td>23.147003</td>\n",
       "      <td>80.0</td>\n",
       "      <td>0.792079</td>\n",
       "      <td>0.937971</td>\n",
       "      <td>0.291524</td>\n",
       "      <td>21.688916</td>\n",
       "    </tr>\n",
       "    <tr>\n",
       "      <th>18</th>\n",
       "      <td>20.522275</td>\n",
       "      <td>74.0</td>\n",
       "      <td>0.732673</td>\n",
       "      <td>0.675349</td>\n",
       "      <td>0.305030</td>\n",
       "      <td>21.095195</td>\n",
       "    </tr>\n",
       "    <tr>\n",
       "      <th>19</th>\n",
       "      <td>24.218423</td>\n",
       "      <td>84.0</td>\n",
       "      <td>0.831683</td>\n",
       "      <td>1.045174</td>\n",
       "      <td>0.282299</td>\n",
       "      <td>22.084730</td>\n",
       "    </tr>\n",
       "    <tr>\n",
       "      <th>20</th>\n",
       "      <td>17.951269</td>\n",
       "      <td>65.0</td>\n",
       "      <td>0.643564</td>\n",
       "      <td>0.418101</td>\n",
       "      <td>0.324320</td>\n",
       "      <td>20.204614</td>\n",
       "    </tr>\n",
       "    <tr>\n",
       "      <th>21</th>\n",
       "      <td>7.833889</td>\n",
       "      <td>28.0</td>\n",
       "      <td>0.277228</td>\n",
       "      <td>-0.594213</td>\n",
       "      <td>0.383903</td>\n",
       "      <td>16.543334</td>\n",
       "    </tr>\n",
       "    <tr>\n",
       "      <th>22</th>\n",
       "      <td>23.822498</td>\n",
       "      <td>82.0</td>\n",
       "      <td>0.811881</td>\n",
       "      <td>1.005559</td>\n",
       "      <td>0.286931</td>\n",
       "      <td>21.886823</td>\n",
       "    </tr>\n",
       "    <tr>\n",
       "      <th>23</th>\n",
       "      <td>23.863100</td>\n",
       "      <td>83.0</td>\n",
       "      <td>0.821782</td>\n",
       "      <td>1.009621</td>\n",
       "      <td>0.284620</td>\n",
       "      <td>21.985777</td>\n",
       "    </tr>\n",
       "    <tr>\n",
       "      <th>24</th>\n",
       "      <td>11.288491</td>\n",
       "      <td>42.0</td>\n",
       "      <td>0.415842</td>\n",
       "      <td>-0.248556</td>\n",
       "      <td>0.365898</td>\n",
       "      <td>17.928683</td>\n",
       "    </tr>\n",
       "  </tbody>\n",
       "</table>\n",
       "</div>"
      ],
      "text/plain": [
       "            M   rank       pct         Z     predZ       pred\n",
       "0    6.771423   22.0  0.217822 -0.700520  0.389589  15.949612\n",
       "1   38.250489  100.0  0.990099  2.449180  0.244366  23.667987\n",
       "2   -8.598282    3.0  0.029703 -2.238366  0.398766  14.069496\n",
       "3   19.697190   73.0  0.722772  0.592793  0.307236  20.996242\n",
       "4   -2.258100    6.0  0.059406 -1.603987  0.398239  14.366356\n",
       "5   28.667375   94.0  0.930693  1.490323  0.258714  23.074266\n",
       "6    7.262322   25.0  0.247525 -0.651402  0.386906  16.246473\n",
       "7   30.158047   96.0  0.950495  1.639475  0.253940  23.272173\n",
       "8   24.714445   85.0  0.841584  1.094804  0.279971  22.183684\n",
       "9   -0.213637    8.0  0.079208 -1.399424  0.397693  14.564263\n",
       "10  16.941651   62.0  0.613861  0.317082  0.330433  19.907753\n",
       "11 -11.494205    1.0  0.009901 -2.528124  0.398923  13.871589\n",
       "12  13.252900   47.0  0.465347 -0.052003  0.358004  18.423450\n",
       "13  13.814717   52.0  0.514851  0.004211  0.349422  18.918218\n",
       "14   7.703141   27.0  0.267327 -0.607295  0.384939  16.444380\n",
       "15   2.012392   13.0  0.128713 -1.176694  0.395651  15.059031\n",
       "16  21.757046   76.0  0.752475  0.798896  0.300578  21.293102\n",
       "17  23.147003   80.0  0.792079  0.937971  0.291524  21.688916\n",
       "18  20.522275   74.0  0.732673  0.675349  0.305030  21.095195\n",
       "19  24.218423   84.0  0.831683  1.045174  0.282299  22.084730\n",
       "20  17.951269   65.0  0.643564  0.418101  0.324320  20.204614\n",
       "21   7.833889   28.0  0.277228 -0.594213  0.383903  16.543334\n",
       "22  23.822498   82.0  0.811881  1.005559  0.286931  21.886823\n",
       "23  23.863100   83.0  0.821782  1.009621  0.284620  21.985777\n",
       "24  11.288491   42.0  0.415842 -0.248556  0.365898  17.928683"
      ]
     },
     "execution_count": 166,
     "metadata": {},
     "output_type": "execute_result"
    }
   ],
   "source": [
    "x.head(25)"
   ]
  },
  {
   "cell_type": "code",
   "execution_count": 176,
   "metadata": {},
   "outputs": [
    {
     "data": {
      "text/html": [
       "<div>\n",
       "<style scoped>\n",
       "    .dataframe tbody tr th:only-of-type {\n",
       "        vertical-align: middle;\n",
       "    }\n",
       "\n",
       "    .dataframe tbody tr th {\n",
       "        vertical-align: top;\n",
       "    }\n",
       "\n",
       "    .dataframe thead th {\n",
       "        text-align: right;\n",
       "    }\n",
       "</style>\n",
       "<table border=\"1\" class=\"dataframe\">\n",
       "  <thead>\n",
       "    <tr style=\"text-align: right;\">\n",
       "      <th></th>\n",
       "      <th>M</th>\n",
       "    </tr>\n",
       "  </thead>\n",
       "  <tbody>\n",
       "    <tr>\n",
       "      <th>0</th>\n",
       "      <td>6.771423</td>\n",
       "    </tr>\n",
       "    <tr>\n",
       "      <th>1</th>\n",
       "      <td>38.250489</td>\n",
       "    </tr>\n",
       "    <tr>\n",
       "      <th>2</th>\n",
       "      <td>-8.598282</td>\n",
       "    </tr>\n",
       "    <tr>\n",
       "      <th>3</th>\n",
       "      <td>19.697190</td>\n",
       "    </tr>\n",
       "    <tr>\n",
       "      <th>4</th>\n",
       "      <td>-2.258100</td>\n",
       "    </tr>\n",
       "  </tbody>\n",
       "</table>\n",
       "</div>"
      ],
      "text/plain": [
       "           M\n",
       "0   6.771423\n",
       "1  38.250489\n",
       "2  -8.598282\n",
       "3  19.697190\n",
       "4  -2.258100"
      ]
     },
     "execution_count": 176,
     "metadata": {},
     "output_type": "execute_result"
    }
   ],
   "source": [
    "x.head()"
   ]
  },
  {
   "cell_type": "code",
   "execution_count": 177,
   "metadata": {},
   "outputs": [],
   "source": [
    "xmean = x['M'].mean()\n",
    "xstd = x[\"M\"].std()"
   ]
  },
  {
   "cell_type": "code",
   "execution_count": null,
   "metadata": {},
   "outputs": [],
   "source": [
    "x['rank'] = x['M'].rank(method='first')\n",
    "x.plot.scatter('rank', 'M')"
   ]
  },
  {
   "cell_type": "code",
   "execution_count": 184,
   "metadata": {},
   "outputs": [],
   "source": []
  },
  {
   "cell_type": "code",
   "execution_count": 193,
   "metadata": {},
   "outputs": [
    {
     "data": {
      "text/plain": [
       "0.5536938553650228"
      ]
     },
     "execution_count": 193,
     "metadata": {},
     "output_type": "execute_result"
    }
   ],
   "source": [
    "(1 - scipy.stats.norm.cdf(x_max_Z)) / (.01)"
   ]
  },
  {
   "cell_type": "code",
   "execution_count": 198,
   "metadata": {},
   "outputs": [
    {
     "name": "stdout",
     "output_type": "stream",
     "text": [
      "0.005536938553650228\n"
     ]
    }
   ],
   "source": [
    "alpha = 1/100\n",
    "x_max_p = 1 - scipy.stats.norm.cdf(x_max_Z)\n",
    "print(x_max_p)"
   ]
  },
  {
   "cell_type": "code",
   "execution_count": null,
   "metadata": {},
   "outputs": [],
   "source": [
    "significance = max(1 - x_max_p / alpha, 0.0)\n",
    "print(significance)"
   ]
  },
  {
   "cell_type": "code",
   "execution_count": null,
   "metadata": {},
   "outputs": [],
   "source": []
  },
  {
   "cell_type": "code",
   "execution_count": 234,
   "metadata": {},
   "outputs": [
    {
     "name": "stdout",
     "output_type": "stream",
     "text": [
      "significance: 0.0\n"
     ]
    },
    {
     "data": {
      "image/png": "[encoded data removed]",
      "text/plain": [
       "<Figure size 432x288 with 1 Axes>"
      ]
     },
     "metadata": {
      "needs_background": "light"
     },
     "output_type": "display_data"
    }
   ],
   "source": [
    "x = pd.DataFrame([10 * np.random.normal() + 15 for _ in range(100)], columns=['M'])\n",
    "x_max = max(x['M'])\n",
    "x_mean = x.drop(x['M'].idxmax())['M'].mean()\n",
    "x_std = x.drop(x['M'].idxmax())['M'].std()\n",
    "x_max_Z = (x_max - x_mean)/x_std\n",
    "x_max_p = 1 - scipy.stats.norm.cdf(x_max_Z)\n",
    "\n",
    "x.hist()\n",
    "plt.axvline(scipy.stats.norm.ppf(.99)  * x_std + x_mean, color='r')\n",
    "plt.axvline(x_max, color='g')\n",
    "print(\"significance:\", max(1 - x_max_p / alpha, 0.0))"
   ]
  },
  {
   "cell_type": "code",
   "execution_count": null,
   "metadata": {},
   "outputs": [],
   "source": [
    "x = pd.DataFrame([10 * np.random.normal() + 15 for _ in range(100)], columns=['M'])\n",
    "x_max = max(x['M'])\n",
    "x_mean = x.drop(x['M'].idxmax())['M'].mean()\n",
    "x_std = x.drop(x['M'].idxmax())['M'].std()\n",
    "x_max_Z = (x_max - x_mean)/x_std\n",
    "x_max_p = 1 - scipy.stats.norm.cdf(x_max_Z)\n",
    "\n",
    "x.hist()\n",
    "plt.axvline(scipy.stats.norm.ppf(.99)  * x_std + x_mean, color='r')\n",
    "plt.axvline(x_max, color='g')\n",
    "print(\"significance:\", max(1 - x_max_p / alpha, 0.0))"
   ]
  },
  {
   "cell_type": "code",
   "execution_count": 346,
   "metadata": {},
   "outputs": [],
   "source": [
    "def simulate(n):\n",
    "    x = pd.DataFrame([10 * np.random.normal() + 15 for _ in range(n)], columns=['M'])\n",
    "    x_max = max(x['M'])\n",
    "    alpha = 1/n    \n",
    "    \n",
    "    x_mean = x['M'].mean()\n",
    "    x_std = x['M'].std()\n",
    "    x_max_Z = (x_max - x_mean)/x_std\n",
    "    x_max_p = 1 - scipy.stats.norm.cdf(x_max_Z)\n",
    "\n",
    "    x.hist(density=True)\n",
    "    plt.axvline(scipy.stats.norm.ppf(1-1/n) * x_std + x_mean, color='r', label='expected max val')\n",
    "    plt.axvline(x_max, color='g', label='actual max val')\n",
    "\n",
    "    # plot normal dist\n",
    "    x_axis = np.arange(min(x['M']), max(x['M']), .001)\n",
    "    plt.plot(x_axis, scipy.stats.norm.pdf(x_axis,x_mean,x_std))\n",
    "    # Mean = 0, SD = 2.\n",
    "\n",
    "    print(\"significance:\", max(1 - x_max_p / alpha, 0.0))\n",
    "    print(\"x_max_p\", x_max_p)\n",
    "    print(\"alpha (1/n)\", alpha)\n",
    "    "
   ]
  },
  {
   "cell_type": "code",
   "execution_count": 348,
   "metadata": {},
   "outputs": [
    {
     "name": "stdout",
     "output_type": "stream",
     "text": [
      "significance: 0.9971802493782258\n",
      "x_max_p 2.8197506217741974e-06\n",
      "alpha (1/n) 0.001\n"
     ]
    },
    {
     "data": {
      "image/png": "[encoded data removed]",
      "text/plain": [
       "<Figure size 432x288 with 1 Axes>"
      ]
     },
     "metadata": {
      "needs_background": "light"
     },
     "output_type": "display_data"
    }
   ],
   "source": [
    "simulate(1000)"
   ]
  },
  {
   "cell_type": "code",
   "execution_count": 351,
   "metadata": {},
   "outputs": [
    {
     "name": "stdout",
     "output_type": "stream",
     "text": [
      "significance: 0.0\n",
      "x_max_p 0.0014602342050724637\n",
      "alpha (1/n) 0.001\n"
     ]
    },
    {
     "data": {
      "image/png": "[encoded data removed]",
      "text/plain": [
       "<Figure size 432x288 with 1 Axes>"
      ]
     },
     "metadata": {
      "needs_background": "light"
     },
     "output_type": "display_data"
    }
   ],
   "source": [
    "simulate(1000)"
   ]
  },
  {
   "cell_type": "code",
   "execution_count": 353,
   "metadata": {},
   "outputs": [
    {
     "name": "stdout",
     "output_type": "stream",
     "text": [
      "significance: 0.35295361397935565\n",
      "x_max_p 0.0006470463860206443\n",
      "alpha (1/n) 0.001\n"
     ]
    },
    {
     "data": {
      "image/png": "[encoded data removed]",
      "text/plain": [
       "<Figure size 432x288 with 1 Axes>"
      ]
     },
     "metadata": {
      "needs_background": "light"
     },
     "output_type": "display_data"
    }
   ],
   "source": [
    "simulate(1000)"
   ]
  },
  {
   "cell_type": "code",
   "execution_count": 241,
   "metadata": {},
   "outputs": [
    {
     "name": "stdout",
     "output_type": "stream",
     "text": [
      "significance: 0.997779697503486\n"
     ]
    },
    {
     "data": {
      "image/png": "[encoded data removed]",
      "text/plain": [
       "<Figure size 432x288 with 1 Axes>"
      ]
     },
     "metadata": {
      "needs_background": "light"
     },
     "output_type": "display_data"
    }
   ],
   "source": [
    "simulate(1000)"
   ]
  },
  {
   "cell_type": "code",
   "execution_count": 279,
   "metadata": {},
   "outputs": [
    {
     "name": "stdout",
     "output_type": "stream",
     "text": [
      "significance: 0.9470496492825933\n"
     ]
    },
    {
     "data": {
      "image/png": "[encoded data removed]",
      "text/plain": [
       "<Figure size 432x288 with 1 Axes>"
      ]
     },
     "metadata": {
      "needs_background": "light"
     },
     "output_type": "display_data"
    }
   ],
   "source": [
    "simulate(1000)"
   ]
  },
  {
   "cell_type": "code",
   "execution_count": null,
   "metadata": {},
   "outputs": [],
   "source": [
    "scipy.stats.norm.ppf(.5, x_mean, x_std)"
   ]
  },
  {
   "cell_type": "code",
   "execution_count": null,
   "metadata": {},
   "outputs": [],
   "source": [
    "scipy.stats.norm.pdf(x_mean, x_mean, x_std)"
   ]
  },
  {
   "cell_type": "code",
   "execution_count": 290,
   "metadata": {},
   "outputs": [
    {
     "data": {
      "text/plain": [
       "9.039491770341439"
      ]
     },
     "execution_count": 290,
     "metadata": {},
     "output_type": "execute_result"
    }
   ],
   "source": [
    "x_std"
   ]
  },
  {
   "cell_type": "code",
   "execution_count": 293,
   "metadata": {},
   "outputs": [
    {
     "data": {
      "text/plain": [
       "[<matplotlib.lines.Line2D at 0x131f88dd8>]"
      ]
     },
     "execution_count": 293,
     "metadata": {},
     "output_type": "execute_result"
    },
    {
     "data": {
      "image/png": "[encoded data removed]",
      "text/plain": [
       "<Figure size 432x288 with 1 Axes>"
      ]
     },
     "metadata": {
      "needs_background": "light"
     },
     "output_type": "display_data"
    }
   ],
   "source": [
    "x_min = -25\n",
    "x_max = 50\n",
    "mean = 15 \n",
    "std = 9\n",
    "x = np.linspace(x_min, x_max, 100)\n",
    "y = scipy.stats.norm.pdf(x,mean,std) * 1000\n",
    "plt.plot(x, y)"
   ]
  },
  {
   "cell_type": "code",
   "execution_count": null,
   "metadata": {},
   "outputs": [],
   "source": [
    "import numpy as np\n",
    "from scipy.stats import norm\n",
    "import matplotlib.pyplot as plt"
   ]
  },
  {
   "cell_type": "code",
   "execution_count": null,
   "metadata": {},
   "outputs": [],
   "source": [
    "# Plot the histogram.\n",
    "plt.hist(data, bins=25, density=True, alpha=0.6, color='g')\n",
    "\n",
    "# Plot the PDF.\n",
    "xmin, xmax = plt.xlim()\n",
    "x = np.linspace(xmin, xmax, 100)\n",
    "p = norm.pdf(x, mu, std)\n",
    "plt.plot(x, p, 'k', linewidth=2)\n",
    "title = \"Fit results: mu = %.2f,  std = %.2f\" % (mu, std)\n",
    "plt.title(title)\n",
    "\n",
    "plt.show()"
   ]
  },
  {
   "cell_type": "code",
   "execution_count": null,
   "metadata": {},
   "outputs": [],
   "source": [
    "p_df[p_df['venue_name'] == 'CoRR']"
   ]
  },
  {
   "cell_type": "code",
   "execution_count": null,
   "metadata": {},
   "outputs": [],
   "source": [
    "result_set = p_df\n",
    "analysis_dimension = 'venue_name'\n",
    "subspace = {'venue_name':'CoRR'}\n",
    "result_set[result_set[analysis_dimension] == subspace[analysis_dimension]]"
   ]
  },
  {
   "cell_type": "code",
   "execution_count": 405,
   "metadata": {},
   "outputs": [
    {
     "data": {
      "text/html": [
       "<div>\n",
       "<style scoped>\n",
       "    .dataframe tbody tr th:only-of-type {\n",
       "        vertical-align: middle;\n",
       "    }\n",
       "\n",
       "    .dataframe tbody tr th {\n",
       "        vertical-align: top;\n",
       "    }\n",
       "\n",
       "    .dataframe thead th {\n",
       "        text-align: right;\n",
       "    }\n",
       "</style>\n",
       "<table border=\"1\" class=\"dataframe\">\n",
       "  <thead>\n",
       "    <tr style=\"text-align: right;\">\n",
       "      <th></th>\n",
       "      <th>M</th>\n",
       "    </tr>\n",
       "    <tr>\n",
       "      <th>school</th>\n",
       "      <th></th>\n",
       "    </tr>\n",
       "  </thead>\n",
       "  <tbody>\n",
       "    <tr>\n",
       "      <th></th>\n",
       "      <td>2984622</td>\n",
       "    </tr>\n",
       "  </tbody>\n",
       "</table>\n",
       "</div>"
      ],
      "text/plain": [
       "              M\n",
       "school         \n",
       "        2984622"
      ]
     },
     "execution_count": 405,
     "metadata": {},
     "output_type": "execute_result"
    }
   ],
   "source": [
    "p_df = p_df.fillna('')\n",
    "school_size = p_df.groupby('school').agg({\"M\":\"sum\"})\n",
    "school_size[school_size['M'] > len(p_df) * .01]"
   ]
  },
  {
   "cell_type": "code",
   "execution_count": null,
   "metadata": {},
   "outputs": [],
   "source": [
    "p_df = pd.read_csv(papers_filename, encoding='mac_roman', dtype = {'school': str})"
   ]
  },
  {
   "cell_type": "code",
   "execution_count": 409,
   "metadata": {},
   "outputs": [
    {
     "data": {
      "text/plain": [
       "0.9493745166098949"
      ]
     },
     "execution_count": 409,
     "metadata": {},
     "output_type": "execute_result"
    }
   ],
   "source": [
    "len(p_df)\n",
    "\n"
   ]
  }
 ],
 "metadata": {
  "kernelspec": {
   "display_name": "Python 3",
   "language": "python",
   "name": "python3"
  },
  "language_info": {
   "codemirror_mode": {
    "name": "ipython",
    "version": 3
   },
   "file_extension": ".py",
   "mimetype": "text/x-python",
   "name": "python",
   "nbconvert_exporter": "python",
   "pygments_lexer": "ipython3",
   "version": "3.6.1"
  }
 },
 "nbformat": 4,
 "nbformat_minor": 4
}
