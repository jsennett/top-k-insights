{
 "cells": [
  {
   "cell_type": "code",
   "execution_count": 349,
   "metadata": {},
   "outputs": [],
   "source": [
    "import pandas as pd\n",
    "import numpy as np\n",
    "import scipy\n",
    "import heapq\n",
    "import scipy.stats\n",
    "import matplotlib.pyplot as plt"
   ]
  },
  {
   "cell_type": "code",
   "execution_count": 350,
   "metadata": {},
   "outputs": [],
   "source": [
    "papers_filename = \"/Users/jsennett/Code/top-k-insights/data/all-papers.csv\"\n",
    "p_df = pd.read_csv(papers_filename, encoding='mac_roman', dtype = {'school': str})\n",
    "p_df.fillna('', inplace=True)\n",
    "p_df['M'] = 1"
   ]
  },
  {
   "cell_type": "code",
   "execution_count": 351,
   "metadata": {},
   "outputs": [
    {
     "name": "stdout",
     "output_type": "stream",
     "text": [
      "2991406 rows\n"
     ]
    },
    {
     "data": {
      "text/html": [
       "<div>\n",
       "<style scoped>\n",
       "    .dataframe tbody tr th:only-of-type {\n",
       "        vertical-align: middle;\n",
       "    }\n",
       "\n",
       "    .dataframe tbody tr th {\n",
       "        vertical-align: top;\n",
       "    }\n",
       "\n",
       "    .dataframe thead th {\n",
       "        text-align: right;\n",
       "    }\n",
       "</style>\n",
       "<table border=\"1\" class=\"dataframe\">\n",
       "  <thead>\n",
       "    <tr style=\"text-align: right;\">\n",
       "      <th></th>\n",
       "      <th>paperid</th>\n",
       "      <th>venue_name</th>\n",
       "      <th>year</th>\n",
       "      <th>school</th>\n",
       "      <th>venue_type</th>\n",
       "      <th>M</th>\n",
       "    </tr>\n",
       "  </thead>\n",
       "  <tbody>\n",
       "    <tr>\n",
       "      <th>0</th>\n",
       "      <td>5389</td>\n",
       "      <td>Future Generation Comp. Syst.</td>\n",
       "      <td>2004</td>\n",
       "      <td></td>\n",
       "      <td>0</td>\n",
       "      <td>1</td>\n",
       "    </tr>\n",
       "    <tr>\n",
       "      <th>1</th>\n",
       "      <td>5390</td>\n",
       "      <td>Future Generation Comp. Syst.</td>\n",
       "      <td>2010</td>\n",
       "      <td></td>\n",
       "      <td>0</td>\n",
       "      <td>1</td>\n",
       "    </tr>\n",
       "    <tr>\n",
       "      <th>2</th>\n",
       "      <td>5407</td>\n",
       "      <td>Future Generation Comp. Syst.</td>\n",
       "      <td>2009</td>\n",
       "      <td></td>\n",
       "      <td>0</td>\n",
       "      <td>1</td>\n",
       "    </tr>\n",
       "    <tr>\n",
       "      <th>3</th>\n",
       "      <td>5414</td>\n",
       "      <td>Future Generation Comp. Syst.</td>\n",
       "      <td>2001</td>\n",
       "      <td></td>\n",
       "      <td>0</td>\n",
       "      <td>1</td>\n",
       "    </tr>\n",
       "    <tr>\n",
       "      <th>4</th>\n",
       "      <td>5449</td>\n",
       "      <td>Future Generation Comp. Syst.</td>\n",
       "      <td>2004</td>\n",
       "      <td></td>\n",
       "      <td>0</td>\n",
       "      <td>1</td>\n",
       "    </tr>\n",
       "  </tbody>\n",
       "</table>\n",
       "</div>"
      ],
      "text/plain": [
       "   paperid                     venue_name  year school  venue_type  M\n",
       "0     5389  Future Generation Comp. Syst.  2004                  0  1\n",
       "1     5390  Future Generation Comp. Syst.  2010                  0  1\n",
       "2     5407  Future Generation Comp. Syst.  2009                  0  1\n",
       "3     5414  Future Generation Comp. Syst.  2001                  0  1\n",
       "4     5449  Future Generation Comp. Syst.  2004                  0  1"
      ]
     },
     "execution_count": 351,
     "metadata": {},
     "output_type": "execute_result"
    }
   ],
   "source": [
    "print(len(p_df), \"rows\")\n",
    "p_df.head()"
   ]
  },
  {
   "cell_type": "markdown",
   "metadata": {},
   "source": [
    "## Powerlaw maximum point\n",
    "INFO:root: [1.0] Aggregating pct of count over school, maximum point 99.77 stood out using powerlaw test, considering only the subspace {}.\n"
   ]
  },
  {
   "cell_type": "code",
   "execution_count": 368,
   "metadata": {},
   "outputs": [
    {
     "data": {
      "image/png": "[encoded data removed]",
      "text/plain": [
       "<Figure size 432x288 with 2 Axes>"
      ]
     },
     "metadata": {},
     "output_type": "display_data"
    }
   ],
   "source": [
    "f1,(ax,ax2) = plt.subplots(1,2,sharey=True, facecolor='w')\n",
    "ax.hist(rs['delta_avg'], bins=1000, label='count of papers')\n",
    "ax2.hist(rs['delta_avg'], bins=1000, label='count of papers')\n",
    "ax.set_xlim(-400,2000)\n",
    "ax2.set_xlim(9000,10000)\n",
    "\n",
    "ax.spines['right'].set_visible(False)\n",
    "ax2.spines['left'].set_visible(False)\n",
    "\n",
    "ax.yaxis.tick_left()\n",
    "ax2.yaxis.tick_right()\n",
    "\n",
    "# ax.tick_params(labelright='off')\n",
    "# ax2.tick_params(labelleft='off')\n",
    "\n",
    "d = .015 # how big to make the diagonal lines in axes coordinates\n",
    "# arguments to pass plot, just so we don't keep repeating them\n",
    "kwargs = dict(transform=ax.transAxes, color='k', clip_on=False)\n",
    "ax.plot((1-d,1+d), (-d,+d), **kwargs)\n",
    "ax.plot((1-d,1+d),(1-d,1+d), **kwargs)\n",
    "\n",
    "kwargs.update(transform=ax2.transAxes)  # switch to the bottom axes\n",
    "ax2.plot((-d,+d), (1-d,1+d), **kwargs)\n",
    "ax2.plot((-d,+d), (-d,+d), **kwargs)\n",
    "\n",
    "plt.axvline(9500, label='point insight', color='g')\n",
    "plt.suptitle('Δavg(count(papers)) across venues')\n",
    "\n",
    "plt.legend()\n",
    "plt.savefig('./figs/papers-1.png', bbox_inches = \"tight\")"
   ]
  },
  {
   "cell_type": "markdown",
   "metadata": {},
   "source": [
    "## Shape Insight: rank of count over year\n",
    "[0.99] Aggregating rank of count over year, negative slope -1.00 stood out using linear_shape test, considering only the subspace {}.\n"
   ]
  },
  {
   "cell_type": "code",
   "execution_count": 355,
   "metadata": {},
   "outputs": [
    {
     "data": {
      "text/html": [
       "<div>\n",
       "<style scoped>\n",
       "    .dataframe tbody tr th:only-of-type {\n",
       "        vertical-align: middle;\n",
       "    }\n",
       "\n",
       "    .dataframe tbody tr th {\n",
       "        vertical-align: top;\n",
       "    }\n",
       "\n",
       "    .dataframe thead th {\n",
       "        text-align: right;\n",
       "    }\n",
       "</style>\n",
       "<table border=\"1\" class=\"dataframe\">\n",
       "  <thead>\n",
       "    <tr style=\"text-align: right;\">\n",
       "      <th></th>\n",
       "      <th>year</th>\n",
       "      <th>M</th>\n",
       "      <th>rank</th>\n",
       "    </tr>\n",
       "  </thead>\n",
       "  <tbody>\n",
       "    <tr>\n",
       "      <th>0</th>\n",
       "      <td>1990</td>\n",
       "      <td>20776</td>\n",
       "      <td>26.0</td>\n",
       "    </tr>\n",
       "    <tr>\n",
       "      <th>1</th>\n",
       "      <td>1991</td>\n",
       "      <td>23877</td>\n",
       "      <td>25.0</td>\n",
       "    </tr>\n",
       "    <tr>\n",
       "      <th>2</th>\n",
       "      <td>1992</td>\n",
       "      <td>27083</td>\n",
       "      <td>24.0</td>\n",
       "    </tr>\n",
       "    <tr>\n",
       "      <th>3</th>\n",
       "      <td>1993</td>\n",
       "      <td>33120</td>\n",
       "      <td>23.0</td>\n",
       "    </tr>\n",
       "    <tr>\n",
       "      <th>4</th>\n",
       "      <td>1994</td>\n",
       "      <td>37680</td>\n",
       "      <td>22.0</td>\n",
       "    </tr>\n",
       "  </tbody>\n",
       "</table>\n",
       "</div>"
      ],
      "text/plain": [
       "   year      M  rank\n",
       "0  1990  20776  26.0\n",
       "1  1991  23877  25.0\n",
       "2  1992  27083  24.0\n",
       "3  1993  33120  23.0\n",
       "4  1994  37680  22.0"
      ]
     },
     "execution_count": 355,
     "metadata": {},
     "output_type": "execute_result"
    }
   ],
   "source": [
    "df2 = p_df.groupby('year').agg({'M':'sum'}).reset_index(drop=False)[['year','M']]\n",
    "df2['rank'] = df2['M'].rank(ascending=False, method='first')\n",
    "df2.head()"
   ]
  },
  {
   "cell_type": "code",
   "execution_count": 358,
   "metadata": {},
   "outputs": [
    {
     "data": {
      "image/png": "[encoded data removed]",
      "text/plain": [
       "<Figure size 432x288 with 1 Axes>"
      ]
     },
     "metadata": {
      "needs_background": "light"
     },
     "output_type": "display_data"
    }
   ],
   "source": [
    "f2 = plt.scatter(df2['year'], df2['rank'], alpha=.5, label='rank of count of papers', s=64)\n",
    "plt.title('rank(count(papers)) across years')\n",
    "\n",
    "# Best fit line\n",
    "from numpy.polynomial.polynomial import polyfit\n",
    "b, m = polyfit(df2['year'], df2['rank'], 1)\n",
    "plt.plot(df2['year'], b + m*df2['year'], '-', color='g', alpha=.8, label='shape insight')\n",
    "plt.legend()\n",
    "plt.savefig('./figs/papers-2.png', bbox_inches = \"tight\")"
   ]
  },
  {
   "cell_type": "markdown",
   "metadata": {},
   "source": [
    "# Powerlaw Point \n",
    "s=1.00 Aggregating pct of count over school, maximum point 99.77 stood out using powerlaw test, considering only the subspace {}."
   ]
  },
  {
   "cell_type": "code",
   "execution_count": 335,
   "metadata": {},
   "outputs": [],
   "source": [
    "df3 = p_df.groupby('school').agg({'M':'sum'})\n",
    "df3['pct'] = df3['M'] * 100 / df3['M'].sum()\n",
    "df3['rank'] = df3['M'].rank(ascending=False, method='first')"
   ]
  },
  {
   "cell_type": "code",
   "execution_count": 336,
   "metadata": {},
   "outputs": [
    {
     "data": {
      "image/png": "[encoded data removed]",
      "text/plain": [
       "<Figure size 432x288 with 1 Axes>"
      ]
     },
     "metadata": {
      "needs_background": "light"
     },
     "output_type": "display_data"
    }
   ],
   "source": [
    "f3 = plt.scatter(df3['rank'], df3['pct'], s=32, label='pct of count of papers')\n",
    "plt.scatter([1], max(df3['pct']), color=\"none\", edgecolor=\"g\", s=300, label='point insight')\n",
    "plt.title('pct(count(papers)) across schools')\n",
    "plt.legend()\n",
    "plt.savefig('./figs/papers-3.png', bbox_inches = \"tight\")"
   ]
  },
  {
   "cell_type": "markdown",
   "metadata": {},
   "source": [
    "# Linear point test\n",
    "0.23 Aggregating delta_avg of count over year, year {2015} surprisingly high at {39042.33} stood out using linear_point test, considering only the subspace {'venue_type': 0}."
   ]
  },
  {
   "cell_type": "code",
   "execution_count": 337,
   "metadata": {},
   "outputs": [
    {
     "data": {
      "text/html": [
       "<div>\n",
       "<style scoped>\n",
       "    .dataframe tbody tr th:only-of-type {\n",
       "        vertical-align: middle;\n",
       "    }\n",
       "\n",
       "    .dataframe tbody tr th {\n",
       "        vertical-align: top;\n",
       "    }\n",
       "\n",
       "    .dataframe thead th {\n",
       "        text-align: right;\n",
       "    }\n",
       "</style>\n",
       "<table border=\"1\" class=\"dataframe\">\n",
       "  <thead>\n",
       "    <tr style=\"text-align: right;\">\n",
       "      <th></th>\n",
       "      <th>year</th>\n",
       "      <th>M</th>\n",
       "      <th>delta_avg</th>\n",
       "    </tr>\n",
       "  </thead>\n",
       "  <tbody>\n",
       "    <tr>\n",
       "      <th>0</th>\n",
       "      <td>1990</td>\n",
       "      <td>10266</td>\n",
       "      <td>-39936.884615</td>\n",
       "    </tr>\n",
       "    <tr>\n",
       "      <th>1</th>\n",
       "      <td>1991</td>\n",
       "      <td>11976</td>\n",
       "      <td>-38226.884615</td>\n",
       "    </tr>\n",
       "    <tr>\n",
       "      <th>2</th>\n",
       "      <td>1992</td>\n",
       "      <td>13455</td>\n",
       "      <td>-36747.884615</td>\n",
       "    </tr>\n",
       "    <tr>\n",
       "      <th>3</th>\n",
       "      <td>1993</td>\n",
       "      <td>15366</td>\n",
       "      <td>-34836.884615</td>\n",
       "    </tr>\n",
       "    <tr>\n",
       "      <th>4</th>\n",
       "      <td>1994</td>\n",
       "      <td>16810</td>\n",
       "      <td>-33392.884615</td>\n",
       "    </tr>\n",
       "  </tbody>\n",
       "</table>\n",
       "</div>"
      ],
      "text/plain": [
       "   year      M     delta_avg\n",
       "0  1990  10266 -39936.884615\n",
       "1  1991  11976 -38226.884615\n",
       "2  1992  13455 -36747.884615\n",
       "3  1993  15366 -34836.884615\n",
       "4  1994  16810 -33392.884615"
      ]
     },
     "execution_count": 337,
     "metadata": {},
     "output_type": "execute_result"
    }
   ],
   "source": [
    "df4 = p_df[p_df['venue_type'] == 0].groupby('year').agg({'M':'sum'}).reset_index(drop=False)\n",
    "df4['delta_avg'] = df4['M'] - df4['M'].mean()\n",
    "df4.head()"
   ]
  },
  {
   "cell_type": "code",
   "execution_count": 339,
   "metadata": {},
   "outputs": [
    {
     "data": {
      "image/png": "[encoded data removed]",
      "text/plain": [
       "<Figure size 432x288 with 1 Axes>"
      ]
     },
     "metadata": {
      "needs_background": "light"
     },
     "output_type": "display_data"
    }
   ],
   "source": [
    "b, m = polyfit(df4['year'], df4['delta_avg'], 1)\n",
    "f4 = plt.plot(df4['year'], df4['delta_avg'], '-', label='Δavg')\n",
    "plt.plot(df4['year'], b + m*df4['year'], '--', color='orange', label='shape')\n",
    "plt.scatter([2014], df4[df4['year'] == 2014]['delta_avg'], color='none', edgecolor='green', s=150, label='point insight')\n",
    "\n",
    "plt.legend()\n",
    "plt.title('Δavg(count(papers)) across years')\n",
    "plt.savefig('./figs/papers-4.png', bbox_inches = \"tight\")"
   ]
  }
 ],
 "metadata": {
  "kernelspec": {
   "display_name": "Python 3",
   "language": "python",
   "name": "python3"
  },
  "language_info": {
   "codemirror_mode": {
    "name": "ipython",
    "version": 3
   },
   "file_extension": ".py",
   "mimetype": "text/x-python",
   "name": "python",
   "nbconvert_exporter": "python",
   "pygments_lexer": "ipython3",
   "version": "3.6.1"
  }
 },
 "nbformat": 4,
 "nbformat_minor": 4
}
